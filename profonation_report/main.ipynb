{
 "cells": [
  {
   "cell_type": "code",
   "execution_count": 2,
   "metadata": {},
   "outputs": [],
   "source": [
    "import pandas as pd\n",
    "import numpy as np"
   ]
  },
  {
   "cell_type": "code",
   "execution_count": 5,
   "metadata": {},
   "outputs": [
    {
     "data": {
      "text/html": [
       "<div>\n",
       "<style scoped>\n",
       "    .dataframe tbody tr th:only-of-type {\n",
       "        vertical-align: middle;\n",
       "    }\n",
       "\n",
       "    .dataframe tbody tr th {\n",
       "        vertical-align: top;\n",
       "    }\n",
       "\n",
       "    .dataframe thead th {\n",
       "        text-align: right;\n",
       "    }\n",
       "</style>\n",
       "<table border=\"1\" class=\"dataframe\">\n",
       "  <thead>\n",
       "    <tr style=\"text-align: right;\">\n",
       "      <th></th>\n",
       "      <th>period</th>\n",
       "      <th>factory</th>\n",
       "      <th>department</th>\n",
       "      <th>measure_group</th>\n",
       "      <th>measure</th>\n",
       "      <th>measure</th>\n",
       "      <th>c_number</th>\n",
       "      <th>value_</th>\n",
       "      <th>add_info</th>\n",
       "    </tr>\n",
       "  </thead>\n",
       "  <tbody>\n",
       "    <tr>\n",
       "      <th>67</th>\n",
       "      <td>2022-07-01</td>\n",
       "      <td>Калуга</td>\n",
       "      <td>Продажи</td>\n",
       "      <td>Заключенные_договоры</td>\n",
       "      <td>Расчетная прибыль (%наценки) по договору</td>\n",
       "      <td>2590</td>\n",
       "      <td>50.0</td>\n",
       "      <td>NaN</td>\n",
       "      <td>NaN</td>\n",
       "    </tr>\n",
       "  </tbody>\n",
       "</table>\n",
       "</div>"
      ],
      "text/plain": [
       "       period factory department         measure_group  \\\n",
       "67 2022-07-01  Калуга    Продажи  Заключенные_договоры   \n",
       "\n",
       "                                     measure measure  c_number value_  \\\n",
       "67  Расчетная прибыль (%наценки) по договору    2590      50.0    NaN   \n",
       "\n",
       "    add_info  \n",
       "67       NaN  "
      ]
     },
     "execution_count": 5,
     "metadata": {},
     "output_type": "execute_result"
    }
   ],
   "source": [
    "rus = ['Отчётный период'\t,'Завод'\t,'Блок',\t'Группа показателей','Показатель',\t'Вид показателя'\t,'Значение'\t,'Примечание',\t'disable']\n",
    "eng = ['period','factory','department','measure_group','measure','measure','c_number','value_','add_info','disable']\n",
    "mail_link = 'https://docs.google.com/spreadsheets/d/e/2PACX-1vSutugvn1KPMc70ACcFOxRnHXSNpc1GhavN62ssfz62rB5KFNRhBelCoPgyYm1qc8zSUl-iJweTvB0B/pub?output=xlsx'\n",
    "df_sells = pd.read_excel(mail_link,sheet_name='Продажи',dtype={'Вид показателя':str})\n",
    "df_sells = df_sells.rename(columns= dict(zip(rus,eng)))\n",
    "df_sells.sample()"
   ]
  },
  {
   "cell_type": "code",
   "execution_count": null,
   "metadata": {},
   "outputs": [],
   "source": []
  }
 ],
 "metadata": {
  "kernelspec": {
   "display_name": "venv_old",
   "language": "python",
   "name": "python3"
  },
  "language_info": {
   "codemirror_mode": {
    "name": "ipython",
    "version": 3
   },
   "file_extension": ".py",
   "mimetype": "text/x-python",
   "name": "python",
   "nbconvert_exporter": "python",
   "pygments_lexer": "ipython3",
   "version": "3.11.7"
  }
 },
 "nbformat": 4,
 "nbformat_minor": 2
}
