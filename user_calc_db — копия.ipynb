{
 "cells": [
  {
   "cell_type": "code",
   "execution_count": 1,
   "metadata": {},
   "outputs": [],
   "source": [
    "from sqlalchemy import create_engine\n",
    "\n",
    "# Параметры подключения\n",
    "username = 'u1059097_ln'\n",
    "password = 'bfhp8DiXiZEZ'\n",
    "host = 'vip186.hosting.reg.ru'\n",
    "port = '3306'\n",
    "database = 'u1059097_calc_userdata_prod'\n",
    "\n",
    "# Формирование строки подключения\n",
    "connection_string = f'mysql+pymysql://{username}:{password}@{host}:{port}/{database}'\n",
    "\n",
    "# Создание движка SQLAlchemy\n",
    "engine = create_engine(connection_string)"
   ]
  },
  {
   "cell_type": "code",
   "execution_count": 2,
   "metadata": {},
   "outputs": [],
   "source": [
    "import pandas as pd\n",
    "import numpy as np\n",
    "query = \"SELECT * FROM calc_data\"  # Замените 'your_table_name' на имя вашей таблицы\n",
    "\n",
    "# Выполнение запроса и загрузка результатов в DataFrame\n",
    "df = pd.read_sql_query(query, engine)"
   ]
  },
  {
   "cell_type": "code",
   "execution_count": 8,
   "metadata": {},
   "outputs": [
    {
     "data": {
      "text/html": [
       "<div>\n",
       "<style scoped>\n",
       "    .dataframe tbody tr th:only-of-type {\n",
       "        vertical-align: middle;\n",
       "    }\n",
       "\n",
       "    .dataframe tbody tr th {\n",
       "        vertical-align: top;\n",
       "    }\n",
       "\n",
       "    .dataframe thead th {\n",
       "        text-align: right;\n",
       "    }\n",
       "</style>\n",
       "<table border=\"1\" class=\"dataframe\">\n",
       "  <thead>\n",
       "    <tr style=\"text-align: right;\">\n",
       "      <th></th>\n",
       "      <th>id</th>\n",
       "      <th>timestamp</th>\n",
       "      <th>user</th>\n",
       "      <th>in_user_array</th>\n",
       "      <th>in_user_dop</th>\n",
       "      <th>out_calc_margins</th>\n",
       "      <th>out_calc_res</th>\n",
       "      <th>ss_in</th>\n",
       "      <th>ss_out</th>\n",
       "    </tr>\n",
       "  </thead>\n",
       "  <tbody>\n",
       "    <tr>\n",
       "      <th>0</th>\n",
       "      <td>1</td>\n",
       "      <td>2023-09-12 11:53:47</td>\n",
       "      <td>baa@modul.org</td>\n",
       "      <td>[[\"Параметр\", \"Значение\", \"Значение по умолчан...</td>\n",
       "      <td>[[\"76 // Комплектация. Здание. // Здание. Инже...</td>\n",
       "      <td>null</td>\n",
       "      <td>[{\"L0\": \"Комплектация. Здание.\", \"L1\": \"Здание...</td>\n",
       "      <td>1YxeI-540gAlaAu3nepRHrmQSWPBfP5O</td>\n",
       "      <td>1cE9k6yqqlhax51y8YZ-hA_pBgYEZP0h</td>\n",
       "    </tr>\n",
       "  </tbody>\n",
       "</table>\n",
       "</div>"
      ],
      "text/plain": [
       "   id           timestamp           user  \\\n",
       "0   1 2023-09-12 11:53:47  baa@modul.org   \n",
       "\n",
       "                                       in_user_array  \\\n",
       "0  [[\"Параметр\", \"Значение\", \"Значение по умолчан...   \n",
       "\n",
       "                                         in_user_dop out_calc_margins  \\\n",
       "0  [[\"76 // Комплектация. Здание. // Здание. Инже...             null   \n",
       "\n",
       "                                        out_calc_res  \\\n",
       "0  [{\"L0\": \"Комплектация. Здание.\", \"L1\": \"Здание...   \n",
       "\n",
       "                              ss_in                            ss_out  \n",
       "0  1YxeI-540gAlaAu3nepRHrmQSWPBfP5O  1cE9k6yqqlhax51y8YZ-hA_pBgYEZP0h  "
      ]
     },
     "execution_count": 8,
     "metadata": {},
     "output_type": "execute_result"
    },
    {
     "ename": "",
     "evalue": "",
     "output_type": "error",
     "traceback": [
      "\u001b[1;31mThe Kernel crashed while executing code in the the current cell or a previous cell. Please review the code in the cell(s) to identify a possible cause of the failure. Click <a href='https://aka.ms/vscodeJupyterKernelCrash'>here</a> for more info. View Jupyter <a href='command:jupyter.viewOutput'>log</a> for further details."
     ]
    }
   ],
   "source": [
    "df.iloc[:1].in_user_array."
   ]
  }
 ],
 "metadata": {
  "kernelspec": {
   "display_name": ".venv",
   "language": "python",
   "name": "python3"
  },
  "language_info": {
   "codemirror_mode": {
    "name": "ipython",
    "version": 3
   },
   "file_extension": ".py",
   "mimetype": "text/x-python",
   "name": "python",
   "nbconvert_exporter": "python",
   "pygments_lexer": "ipython3",
   "version": "3.10.12"
  }
 },
 "nbformat": 4,
 "nbformat_minor": 2
}
