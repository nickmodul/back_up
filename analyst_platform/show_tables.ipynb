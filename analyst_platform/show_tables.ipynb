{
 "cells": [
  {
   "cell_type": "code",
   "execution_count": 22,
   "metadata": {},
   "outputs": [],
   "source": [
    "import pandas as pd\n",
    "from src.tools.table_overview import TABLE_VIEW\n",
    "from src.tools.data_implemetation import create_xlsx_process"
   ]
  },
  {
   "cell_type": "code",
   "execution_count": 23,
   "metadata": {},
   "outputs": [],
   "source": [
    "# # ACCESS_TABLES.keys()\n",
    "# df_input = pd.read_excel('https://docs.google.com/spreadsheets/d/e/2PACX-1vSgGe28NuOp2DAUnbSoL3t_GnLh5kxmI9L-0jmNSZcREHHguMbnYXHOdlDFrN848XR_UhHihmBIyb8J/pub?output=xlsx',engine='openpyxl')\n",
    "# da_sell = TABLE_VIEW(df_name='da_sell',df_input=df_input)\n",
    "# da_sell.entity_table\n",
    "#  // order_manager_last ,\n",
    "#   //last_stage_name,last_sum_in_mln,last_sum_in_mln_max,last_square_m2,\n"
   ]
  },
  {
   "cell_type": "code",
   "execution_count": 24,
   "metadata": {},
   "outputs": [],
   "source": [
    "import json\n",
    "import codecs\n",
    "translation_dict = {\n",
    "    'Автор примечания'                                          : 'note_author',\n",
    "    'Год создания заявки'                                       : 'order_create_year_create',\n",
    "    'Год создания состояния заявки'                             : 'order_status_year_create',\n",
    "    'Группа'                                                    : 'group',\n",
    "    'Дата заключения = Подписали обе стороны'                   : 'signing_date_edje',\n",
    "    'Дата сдачи объекта'                                        : 'object_delivery_date',\n",
    "    'Дата создания записи'                                      : 'record_creation_date',\n",
    "    'Завод-Подписант'                                           : 'plant_signatory',\n",
    "    'Заказчик (подписант договора с ТОЙ стороны)'               : 'customer',\n",
    "    'ИНН'                                                       : 'INN',\n",
    "    'Инициатор контакта'                                        : 'contact_initiator',\n",
    "    'Клиент'                                                    : 'customer',\n",
    "    'Клиенты отдела продаж (CRM)'                               : 'customer_sells_departmant',\n",
    "    'Код заявки'                                                : 'order_id',\n",
    "    'Контактное лицо'                                           : 'contact_person',\n",
    "    'Локация объекта (ссылка на Гугл или на Яндекс карты)'      : 'object_location',\n",
    "    'Менеджер (ответственный за продажу)'                       : 'sales_manager',\n",
    "    'Менеджер заявки'                                           : 'order_manager',\n",
    "    'Наименование (без ОПФ: ООО, ИП, ПАО и тп)'                 : 'copany_name',\n",
    "    'Наценка плановая'                                          : 'planned_magin',\n",
    "    'Номер договора - наш'                                      : 'contract_number_our',\n",
    "    'Номер договора в нумерации заказчика'                      : 'contract_number_customer',\n",
    "    'Номер заявки CRM'                                          : 'crm_order_number',\n",
    "    'Номер календарной недели состояния'                        : 'order_date_week_number_state',\n",
    "    'Номер календарной создания заявки'                         : 'order_date_week_number_create',\n",
    "    'Орг. форма'                                                : 'legal_form',\n",
    "    'Первый контакт'                                            : 'first_contact',\n",
    "    'Примечание'                                                : 'note',\n",
    "\n",
    "    'Примечание (любая полезная дополнительная информация)' : 'note_additional',\n",
    "    'Связанный договор (между заказчиком и заводом)'        : 'contract_related',\n",
    "    'Сделка с обеспечением исполнения обязательств'         : 'deal_with_security_of_performance',\n",
    "    'Ссылка на договор (папки \"!Договоры\")'                 : 'link_to_contract_folder',\n",
    "    'Ссылка на каталог заявки в \"!Продажах\"'                : 'link_to_order_catalog_in_sales',\n",
    "    'Ссылка на лист согласования'                           : 'approval_sheet_link',\n",
    "    'Статус подписания договора'                            : 'contract_signing_status',\n",
    "    'дата подписания договора'                              : 'contract_signing_date',\n",
    "\n",
    "    'дата провекри состояния'                               : 'order_state_date',\n",
    "    'дата создания заявки'                                  : 'order_creation_date',\n",
    "    'м2 в млн'                                              : 'square_in_million',\n",
    "    'название состояния'                                    : 'state_name',\n",
    "    'номер состояния'                                       : 'state_number',\n",
    "    'сумма в млн.'                                          : 'amount_in_million',\n",
    "\n",
    "\n",
    "    'АО':'AO', 'АЗ':'AC',\n",
    "    'Дата создания завявки':'date_order_create', 'Общая площадь':'square_m2', 'Общая сумма':'amount_sum',\n",
    "     'Дата и время состояния':'date_time_state', 'Тип состояния':\"state_type\", 'Состояние заявки':'order_state',\n",
    "       'Уточнение состояния':'order_state_check', 'Состояние первое или последнее':'last_first_sate', 'Вероятность':'variaty',\n",
    "       'Дата подписания договора':'signing_date',\n",
    "       'Номер заявки (ссылка)': 'order_link', 'Код заявкиДата и время состояния':'order_state_time',}\n",
    "\n",
    "\n",
    "\n",
    "# all_table['column_name_eng'] = all_table['column_name'].replace(translation_dict)\n",
    "\n",
    "\n",
    "json_string = json.dumps(translation_dict, indent=2, ensure_ascii=False)  # indent parameter is optional, it adds indentation for better readability\n",
    "with codecs.open('glossary.json', 'w', encoding='utf-8') as json_file:\n",
    "    json.dump(translation_dict, json_file, indent=2, ensure_ascii=False)"
   ]
  },
  {
   "cell_type": "code",
   "execution_count": 25,
   "metadata": {},
   "outputs": [],
   "source": [
    "ACCESS_TABLES = {}"
   ]
  },
  {
   "cell_type": "code",
   "execution_count": 26,
   "metadata": {},
   "outputs": [],
   "source": [
    "\n",
    "def create_df(link:str, table_name:str):\n",
    "    # link: нужна ссылка для скаивания документы TASK: вставиить ссылку как\n",
    "    try:\n",
    "        return pd.read_excel(link, engine='openpyxl')\n",
    "    except Exception as ex:\n",
    "        print(ex)\n",
    "    \n",
    "\n"
   ]
  },
  {
   "cell_type": "code",
   "execution_count": 27,
   "metadata": {},
   "outputs": [],
   "source": [
    "# df = all_table.groupby(['column_name','type'])[['column_value','column_name','tab_rus']].agg(\n",
    "#     last=('column_value','last'),\n",
    "#     tables=('tab_rus','unique')\n",
    "# ).drop(index=['Unnamed: 0']).reset_index()\n",
    "# df"
   ]
  },
  {
   "cell_type": "code",
   "execution_count": 28,
   "metadata": {},
   "outputs": [],
   "source": [
    "ACCESS_TABLES = {\n",
    "    'da_our_objects' :'https://docs.google.com/spreadsheets/d/e/2PACX-1vSgGe28NuOp2DAUnbSoL3t_GnLh5kxmI9L-0jmNSZcREHHguMbnYXHOdlDFrN848XR_UhHihmBIyb8J/pub?output=xlsx',\n",
    "    'da_contragents' : 'https://docs.google.com/spreadsheets/d/e/2PACX-1vRiSaiEeP8H1j68dfacTdylV5kuAFLLNb4K-pstIlCehlMbbYbSyBqb_CGJTzn8N14my2DOvAwHj9ZJ/pub?output=xlsx',\n",
    "    'da_clients_sells' : 'https://docs.google.com/spreadsheets/d/e/2PACX-1vSaYuR5JBC6Lr4a-Jup0i2o0Tue1FZafnd9ab-PwYDNp2e2r89mm6rLFqQYY-eJdbFWYtRmRuk52o8V/pub?output=xlsx',\n",
    "    'da_journal_dd' : 'https://docs.google.com/spreadsheets/d/e/2PACX-1vR-qcBj85KpYRCn09TecHG1CKWfrteebbsEb9ixi9q-vcBMDtB2g4vljNXw9_1kG6293OJkf4zfI4i7/pub?output=xlsx',\n",
    "    'da_customer_comp_group' : 'https://docs.google.com/spreadsheets/d/e/2PACX-1vR-qcBj85KpYRCn09TecHG1CKWfrteebbsEb9ixi9q-vcBMDtB2g4vljNXw9_1kG6293OJkf4zfI4i7/pub?output=xlsx',\n",
    "    'da_our_objects' : 'https://docs.google.com/spreadsheets/d/e/2PACX-1vR-qcBj85KpYRCn09TecHG1CKWfrteebbsEb9ixi9q-vcBMDtB2g4vljNXw9_1kG6293OJkf4zfI4i7/pub?output=xlsx',\n",
    "    'da_orders_all' : 'https://docs.google.com/spreadsheets/d/e/2PACX-1vSJbXrpTp5IaeYvx4fhaZeXw_uXrbequ0DbEHZXHpVNJkIkp4BshW58iu434Egwxw/pub?output=xlsx',\n",
    "\n",
    "    \n",
    "}"
   ]
  },
  {
   "cell_type": "code",
   "execution_count": 33,
   "metadata": {},
   "outputs": [],
   "source": [
    "ACCESS_TABLES  = {\n",
    "    # 'df_process' : 'https://docs.google.com/spreadsheets/d/e/2PACX-1vSIq3gudZKldwGCrpx9iQWAqeMwh11Qrr9SeSzI4OZtSkO5f2coD6p_V4WejWsJbJMg1akuPSMmP3QM/pub?output=xlsx',\n",
    "    # 'df_states_rows': 'https://docs.google.com/spreadsheets/d/e/2PACX-1vQhX-qF699ftS5NL6FZJX2aVL9sAs3uhj2fzlFMARtsEmakBp2xqn13WJHz1t6fS-iTHzTexYdwVPBM/pub?output=xlsx',\n",
    "    # 'df_succsesfull_orders_agg': 'https://docs.google.com/spreadsheets/d/e/2PACX-1vQHy8ocTsaRDc3PyDvgGn_yVmXHcQ-J3LTHsamSNhJQONu7bYNKZ5xMTLNqmhExfcZWh81FwExzYdzw/pub?output=xlsx',\n",
    "    'df_succsesfull_orders_agg_year':'https://docs.google.com/spreadsheets/d/e/2PACX-1vQq3KPzTadHYdMBpxKOX0T_UuEEMkHogG3e-dRwp_cJCkKmslLVv_AoHtLASxYkbcnG7P4F71KKYTkT/pub?output=xlsx',\n",
    "}"
   ]
  },
  {
   "cell_type": "code",
   "execution_count": 7,
   "metadata": {},
   "outputs": [],
   "source": []
  },
  {
   "cell_type": "code",
   "execution_count": 34,
   "metadata": {},
   "outputs": [],
   "source": [
    "for table,link in ACCESS_TABLES.items():\n",
    "    ACCESS_TABLES[table] = create_df(link=link,table_name=table)"
   ]
  },
  {
   "cell_type": "code",
   "execution_count": 35,
   "metadata": {},
   "outputs": [],
   "source": [
    "with open('glossary.json', 'r', encoding='utf-8') as json_file:\n",
    "    loaded_dict = json.load(json_file)"
   ]
  },
  {
   "cell_type": "code",
   "execution_count": 36,
   "metadata": {},
   "outputs": [
    {
     "name": "stdout",
     "output_type": "stream",
     "text": [
      "Table df_succsesfull_orders_agg_year {\n",
      "  Unnamed: 0 int64\n",
      "  year_order_in int64\n",
      "  emploers_in object\n",
      "  count_orders int64\n",
      "  order_id_count int64\n",
      "  %_ord_signed datetime64[ns]\n",
      "  sq_m2_thsd object\n",
      "  sum_blns object\n",
      "  id_df_succsesfull_orders_agg_year integer [primary key]\n",
      "}\n",
      "\n"
     ]
    }
   ],
   "source": [
    "all_table = pd.DataFrame()\n",
    "for table_name,df in ACCESS_TABLES.items():\n",
    "    my_table_view = TABLE_VIEW (df_name=table_name,df_input=df,)\n",
    "    entity_table = my_table_view.entity_table\n",
    "    ################\n",
    "    entity_table['column_name_eng'] = entity_table['column_name'].replace(loaded_dict)\n",
    "    print(my_table_view.generate_text_representation())\n",
    "##################\n",
    "    all_table = all_table._append(entity_table, ignore_index=True)\n"
   ]
  },
  {
   "cell_type": "code",
   "execution_count": 9,
   "metadata": {},
   "outputs": [],
   "source": [
    "from pathlib import Path\n",
    "create_xlsx_process (\n",
    "    path_intro=Path(r\"G:\\Мой диск\\analyze\"),\n",
    "    xlsx_name='relations_table',\n",
    "    TABLES={\n",
    "        'relations':all_table\n",
    "    }\n",
    ")"
   ]
  },
  {
   "cell_type": "code",
   "execution_count": null,
   "metadata": {},
   "outputs": [],
   "source": []
  },
  {
   "cell_type": "code",
   "execution_count": null,
   "metadata": {},
   "outputs": [],
   "source": [
    "\n",
    "my_table_view.entity_table"
   ]
  }
 ],
 "metadata": {
  "kernelspec": {
   "display_name": ".venv",
   "language": "python",
   "name": "python3"
  },
  "language_info": {
   "codemirror_mode": {
    "name": "ipython",
    "version": 3
   },
   "file_extension": ".py",
   "mimetype": "text/x-python",
   "name": "python",
   "nbconvert_exporter": "python",
   "pygments_lexer": "ipython3",
   "version": "3.12.0"
  }
 },
 "nbformat": 4,
 "nbformat_minor": 2
}
